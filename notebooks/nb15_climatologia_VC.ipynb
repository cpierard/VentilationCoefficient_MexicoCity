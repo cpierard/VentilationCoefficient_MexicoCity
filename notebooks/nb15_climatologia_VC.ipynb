{
 "cells": [
  {
   "cell_type": "code",
   "execution_count": 2,
   "metadata": {},
   "outputs": [],
   "source": [
    "import importlib.util\n",
    "spec = importlib.util.spec_from_file_location(\"BoundaryLayerToolbox\", \"/Users/claudiopierard/VC/BoundaryLayerToolbox.py\")\n",
    "blt = importlib.util.module_from_spec(spec)\n",
    "spec.loader.exec_module(blt)\n",
    "import matplotlib\n",
    "import numpy as np\n",
    "import h5py\n",
    "import matplotlib.pyplot as plt\n",
    "import scipy as spy\n",
    "import scipy.io as sio\n",
    "import scipy.optimize as optimization\n",
    "import scipy.interpolate as interpolate\n",
    "from netCDF4 import Dataset\n",
    "import os\n",
    "import pandas as pd\n",
    "#pd.set_option('html', False)\n",
    "from IPython import display\n",
    "\n",
    "#matplotlib\n",
    "from matplotlib import animation\n",
    "import matplotlib.colors as colors\n",
    "from mpl_toolkits.axes_grid1 import make_axes_locatable\n",
    "%matplotlib inline\n",
    "from mpl_toolkits.axes_grid1 import host_subplot\n",
    "import mpl_toolkits.axisartist as AA\n",
    "import datetime\n",
    "\n",
    "from scipy.stats import stats\n",
    "\n",
    "xlat = np.loadtxt(\"/Users/claudiopierard/VC/datos/xlat_d02_interpolado.txt\")\n",
    "xlong = np.loadtxt(\"/Users/claudiopierard/VC/datos/xlong_d02_interpolado.txt\")\n",
    "hgt = np.loadtxt(\"/Users/claudiopierard/VC/datos/hgt_d02_interpolado.txt\")\n",
    "#months = {1:'jun', 2:'feb', 3:'mar',4: 'apr', 5:'may', 6:'jun', 7:'jul', 8:'aug', 9:'sep', 10:'oct', 11:'nov', 12:'dic'}\n",
    "path2datosVC = \"../datos/dataframes_VC/cca/\"\n",
    "path2pollutants = \"../datos/contaminantes/2015/CCA/\"\n",
    "path2VCmax = \"/Users/claudiopierard/VC/datos/VC_maximos/cca/\"\n",
    "path2VCprom = \"/Users/claudiopierard/VC/datos/VC_promedio/cca/\"\n",
    "\n",
    "path2estaciones = \"../datos/loc_estaciones/air_quality_stn.xy\"\n",
    "estaciones = pd.read_table(path2estaciones, index_col=0, names=['long','lat', 'height'])\n",
    "estaciones = estaciones.transpose().to_dict()\n",
    "estaciones['CCA']\n",
    "\n",
    "months = {'jan': '01', 'feb': '02', 'mar': '03', 'apr': '04', 'may': '05', 'jun': '06', 'jul': '07', 'aug': '08', 'sep': '09', 'oct':'10', 'nov':'11', 'dic': '12'}"
   ]
  },
  {
   "cell_type": "code",
   "execution_count": 3,
   "metadata": {},
   "outputs": [],
   "source": [
    "apr = pd.read_csv(path2VCmax + 'apr_VC_max_cca.csv', index_col=0)\n",
    "apr.index = pd.to_datetime(apr.index)"
   ]
  },
  {
   "cell_type": "code",
   "execution_count": 4,
   "metadata": {},
   "outputs": [
    {
     "data": {
      "text/html": [
       "<div>\n",
       "<style scoped>\n",
       "    .dataframe tbody tr th:only-of-type {\n",
       "        vertical-align: middle;\n",
       "    }\n",
       "\n",
       "    .dataframe tbody tr th {\n",
       "        vertical-align: top;\n",
       "    }\n",
       "\n",
       "    .dataframe thead th {\n",
       "        text-align: right;\n",
       "    }\n",
       "</style>\n",
       "<table border=\"1\" class=\"dataframe\">\n",
       "  <thead>\n",
       "    <tr style=\"text-align: right;\">\n",
       "      <th></th>\n",
       "      <th>VC_24</th>\n",
       "      <th>pblh_24</th>\n",
       "      <th>u_mean_24</th>\n",
       "      <th>date_time</th>\n",
       "    </tr>\n",
       "  </thead>\n",
       "  <tbody>\n",
       "    <tr>\n",
       "      <th>2015-04-01</th>\n",
       "      <td>NaN</td>\n",
       "      <td>NaN</td>\n",
       "      <td>NaN</td>\n",
       "      <td>NaN</td>\n",
       "    </tr>\n",
       "    <tr>\n",
       "      <th>2015-04-02</th>\n",
       "      <td>7971.0</td>\n",
       "      <td>1878.37</td>\n",
       "      <td>4.25</td>\n",
       "      <td>2015-04-02 16:00:00</td>\n",
       "    </tr>\n",
       "    <tr>\n",
       "      <th>2015-04-03</th>\n",
       "      <td>7652.0</td>\n",
       "      <td>2116.26</td>\n",
       "      <td>3.76</td>\n",
       "      <td>2015-04-03 18:00:00</td>\n",
       "    </tr>\n",
       "    <tr>\n",
       "      <th>2015-04-04</th>\n",
       "      <td>8653.0</td>\n",
       "      <td>2379.83</td>\n",
       "      <td>3.63</td>\n",
       "      <td>2015-04-04 18:00:00</td>\n",
       "    </tr>\n",
       "    <tr>\n",
       "      <th>2015-04-05</th>\n",
       "      <td>6196.0</td>\n",
       "      <td>2542.32</td>\n",
       "      <td>2.44</td>\n",
       "      <td>2015-04-05 18:00:00</td>\n",
       "    </tr>\n",
       "    <tr>\n",
       "      <th>2015-04-06</th>\n",
       "      <td>7004.0</td>\n",
       "      <td>2842.08</td>\n",
       "      <td>2.46</td>\n",
       "      <td>2015-04-06 18:00:00</td>\n",
       "    </tr>\n",
       "    <tr>\n",
       "      <th>2015-04-07</th>\n",
       "      <td>6146.0</td>\n",
       "      <td>990.57</td>\n",
       "      <td>6.06</td>\n",
       "      <td>2015-04-07 20:00:00</td>\n",
       "    </tr>\n",
       "    <tr>\n",
       "      <th>2015-04-08</th>\n",
       "      <td>5367.0</td>\n",
       "      <td>1147.95</td>\n",
       "      <td>4.68</td>\n",
       "      <td>2015-04-08 18:00:00</td>\n",
       "    </tr>\n",
       "    <tr>\n",
       "      <th>2015-04-09</th>\n",
       "      <td>8868.0</td>\n",
       "      <td>3046.25</td>\n",
       "      <td>2.98</td>\n",
       "      <td>2015-04-09 18:00:00</td>\n",
       "    </tr>\n",
       "    <tr>\n",
       "      <th>2015-04-10</th>\n",
       "      <td>8715.0</td>\n",
       "      <td>2988.38</td>\n",
       "      <td>2.92</td>\n",
       "      <td>2015-04-10 17:00:00</td>\n",
       "    </tr>\n",
       "  </tbody>\n",
       "</table>\n",
       "</div>"
      ],
      "text/plain": [
       "             VC_24  pblh_24  u_mean_24            date_time\n",
       "2015-04-01     NaN      NaN        NaN                  NaN\n",
       "2015-04-02  7971.0  1878.37       4.25  2015-04-02 16:00:00\n",
       "2015-04-03  7652.0  2116.26       3.76  2015-04-03 18:00:00\n",
       "2015-04-04  8653.0  2379.83       3.63  2015-04-04 18:00:00\n",
       "2015-04-05  6196.0  2542.32       2.44  2015-04-05 18:00:00\n",
       "2015-04-06  7004.0  2842.08       2.46  2015-04-06 18:00:00\n",
       "2015-04-07  6146.0   990.57       6.06  2015-04-07 20:00:00\n",
       "2015-04-08  5367.0  1147.95       4.68  2015-04-08 18:00:00\n",
       "2015-04-09  8868.0  3046.25       2.98  2015-04-09 18:00:00\n",
       "2015-04-10  8715.0  2988.38       2.92  2015-04-10 17:00:00"
      ]
     },
     "execution_count": 4,
     "metadata": {},
     "output_type": "execute_result"
    }
   ],
   "source": [
    "apr.head(10)"
   ]
  },
  {
   "cell_type": "code",
   "execution_count": 5,
   "metadata": {},
   "outputs": [
    {
     "data": {
      "text/plain": [
       "(array([735689., 735692., 735695., 735698., 735701., 735704., 735707.,\n",
       "        735710., 735713., 735716., 735719.]),\n",
       " <a list of 11 Text xticklabel objects>)"
      ]
     },
     "execution_count": 5,
     "metadata": {},
     "output_type": "execute_result"
    },
    {
     "data": {
      "image/png": "[encoded data removed]",
      "text/plain": [
       "<Figure size 720x576 with 3 Axes>"
      ]
     },
     "metadata": {
      "needs_background": "light"
     },
     "output_type": "display_data"
    }
   ],
   "source": [
    "import matplotlib.gridspec as gridspec\n",
    "plt.rcParams['font.family'] = \"Times New Roman\"\n",
    "plt.rcParams.update({'font.size': 13})\n",
    "\n",
    "minor_axis = pd.date_range('2015-04-01', '2015-04-30', freq='1D')\n",
    "\n",
    "plt.figure(figsize = (10,8))\n",
    "gs1 = gridspec.GridSpec(3,1)\n",
    "gs1.update(hspace=0.05) # set the spacing between axes. \n",
    "\n",
    "ax1 = plt.subplot(gs1[0])\n",
    "ax1.plot(apr['VC_24'], color = 'k')\n",
    "ax1.set_xticks(minor_axis, minor=True)\n",
    "ax1.grid(which='both')\n",
    "ax1.tick_params(labelbottom=False)\n",
    "ax1.set_ylabel('VC ($m^2/s$)')\n",
    "ax1.set_ylim(0, 15000)\n",
    "ax1.get_yaxis().set_label_coords(-0.07,0.5)\n",
    "\n",
    "ax2 = plt.subplot(gs1[1])\n",
    "ax2.plot(apr['pblh_24'], color = 'k')\n",
    "ax2.set_xticks(minor_axis, minor=True)\n",
    "ax2.grid(which='both')\n",
    "ax2.tick_params(labelbottom=False)\n",
    "ax2.set_ylabel('PBLH ($m$)')\n",
    "ax2.set_ylim(0, 3800)\n",
    "ax2.get_yaxis().set_label_coords(-0.07,0.5)\n",
    "\n",
    "ax3 = plt.subplot(gs1[2])\n",
    "ax3.plot(apr['u_mean_24'], color = 'k')\n",
    "ax3.set_xticks(minor_axis, minor=True)\n",
    "ax3.grid(which='both')\n",
    "ax3.set_ylabel('<U> ($m/s$)')\n",
    "ax3.set_ylim(0, 8.9)\n",
    "ax3.get_yaxis().set_label_coords(-0.07,0.5)\n",
    "\n",
    "plt.xticks(rotation=90)"
   ]
  },
  {
   "cell_type": "markdown",
   "metadata": {},
   "source": [
    "# VC máximo promedio mensual"
   ]
  },
  {
   "cell_type": "code",
   "execution_count": 6,
   "metadata": {},
   "outputs": [],
   "source": [
    "anual = pd.read_csv(path2VCmax + 'VC_max_anual_cca.csv', index_col=0)"
   ]
  },
  {
   "cell_type": "code",
   "execution_count": 7,
   "metadata": {},
   "outputs": [],
   "source": [
    "anual = anual.sort_index()"
   ]
  },
  {
   "cell_type": "code",
   "execution_count": 8,
   "metadata": {},
   "outputs": [
    {
     "data": {
      "text/plain": [
       "-1395"
      ]
     },
     "execution_count": 8,
     "metadata": {},
     "output_type": "execute_result"
    }
   ],
   "source": [
    "6744-8139"
   ]
  },
  {
   "cell_type": "code",
   "execution_count": 9,
   "metadata": {},
   "outputs": [
    {
     "data": {
      "text/html": [
       "<div>\n",
       "<style scoped>\n",
       "    .dataframe tbody tr th:only-of-type {\n",
       "        vertical-align: middle;\n",
       "    }\n",
       "\n",
       "    .dataframe tbody tr th {\n",
       "        vertical-align: top;\n",
       "    }\n",
       "\n",
       "    .dataframe thead th {\n",
       "        text-align: right;\n",
       "    }\n",
       "</style>\n",
       "<table border=\"1\" class=\"dataframe\">\n",
       "  <thead>\n",
       "    <tr style=\"text-align: right;\">\n",
       "      <th></th>\n",
       "      <th>VC_24</th>\n",
       "      <th>VC_24_std</th>\n",
       "      <th>pblh_24</th>\n",
       "      <th>pblh_24_std</th>\n",
       "      <th>u_mean_24</th>\n",
       "      <th>u_mean_24_std</th>\n",
       "    </tr>\n",
       "    <tr>\n",
       "      <th>month_ix</th>\n",
       "      <th></th>\n",
       "      <th></th>\n",
       "      <th></th>\n",
       "      <th></th>\n",
       "      <th></th>\n",
       "      <th></th>\n",
       "    </tr>\n",
       "  </thead>\n",
       "  <tbody>\n",
       "    <tr>\n",
       "      <th>1</th>\n",
       "      <td>4322.24</td>\n",
       "      <td>1087.97</td>\n",
       "      <td>1676.08</td>\n",
       "      <td>552.07</td>\n",
       "      <td>3.07</td>\n",
       "      <td>1.89</td>\n",
       "    </tr>\n",
       "    <tr>\n",
       "      <th>2</th>\n",
       "      <td>5738.21</td>\n",
       "      <td>1961.81</td>\n",
       "      <td>1747.08</td>\n",
       "      <td>648.06</td>\n",
       "      <td>3.89</td>\n",
       "      <td>2.09</td>\n",
       "    </tr>\n",
       "    <tr>\n",
       "      <th>3</th>\n",
       "      <td>6744.23</td>\n",
       "      <td>4231.42</td>\n",
       "      <td>1734.47</td>\n",
       "      <td>543.90</td>\n",
       "      <td>4.33</td>\n",
       "      <td>2.71</td>\n",
       "    </tr>\n",
       "    <tr>\n",
       "      <th>4</th>\n",
       "      <td>8139.48</td>\n",
       "      <td>2390.01</td>\n",
       "      <td>2207.11</td>\n",
       "      <td>580.61</td>\n",
       "      <td>3.88</td>\n",
       "      <td>1.31</td>\n",
       "    </tr>\n",
       "    <tr>\n",
       "      <th>5</th>\n",
       "      <td>6010.35</td>\n",
       "      <td>1363.36</td>\n",
       "      <td>2216.56</td>\n",
       "      <td>667.85</td>\n",
       "      <td>3.03</td>\n",
       "      <td>1.29</td>\n",
       "    </tr>\n",
       "    <tr>\n",
       "      <th>6</th>\n",
       "      <td>5901.10</td>\n",
       "      <td>1467.36</td>\n",
       "      <td>1904.73</td>\n",
       "      <td>557.29</td>\n",
       "      <td>3.35</td>\n",
       "      <td>1.43</td>\n",
       "    </tr>\n",
       "    <tr>\n",
       "      <th>7</th>\n",
       "      <td>6752.58</td>\n",
       "      <td>2048.89</td>\n",
       "      <td>1947.22</td>\n",
       "      <td>524.71</td>\n",
       "      <td>3.81</td>\n",
       "      <td>1.96</td>\n",
       "    </tr>\n",
       "    <tr>\n",
       "      <th>8</th>\n",
       "      <td>7371.68</td>\n",
       "      <td>2355.23</td>\n",
       "      <td>1777.22</td>\n",
       "      <td>694.66</td>\n",
       "      <td>5.10</td>\n",
       "      <td>2.96</td>\n",
       "    </tr>\n",
       "    <tr>\n",
       "      <th>9</th>\n",
       "      <td>5478.37</td>\n",
       "      <td>1899.67</td>\n",
       "      <td>1700.88</td>\n",
       "      <td>561.58</td>\n",
       "      <td>3.56</td>\n",
       "      <td>2.02</td>\n",
       "    </tr>\n",
       "    <tr>\n",
       "      <th>10</th>\n",
       "      <td>5803.90</td>\n",
       "      <td>2801.65</td>\n",
       "      <td>1376.36</td>\n",
       "      <td>506.79</td>\n",
       "      <td>4.81</td>\n",
       "      <td>2.74</td>\n",
       "    </tr>\n",
       "    <tr>\n",
       "      <th>11</th>\n",
       "      <td>3830.59</td>\n",
       "      <td>1196.62</td>\n",
       "      <td>1429.26</td>\n",
       "      <td>472.91</td>\n",
       "      <td>3.03</td>\n",
       "      <td>1.51</td>\n",
       "    </tr>\n",
       "    <tr>\n",
       "      <th>12</th>\n",
       "      <td>3471.42</td>\n",
       "      <td>1657.49</td>\n",
       "      <td>1364.71</td>\n",
       "      <td>464.98</td>\n",
       "      <td>2.70</td>\n",
       "      <td>1.56</td>\n",
       "    </tr>\n",
       "  </tbody>\n",
       "</table>\n",
       "</div>"
      ],
      "text/plain": [
       "            VC_24  VC_24_std  pblh_24  pblh_24_std  u_mean_24  u_mean_24_std\n",
       "month_ix                                                                    \n",
       "1         4322.24    1087.97  1676.08       552.07       3.07           1.89\n",
       "2         5738.21    1961.81  1747.08       648.06       3.89           2.09\n",
       "3         6744.23    4231.42  1734.47       543.90       4.33           2.71\n",
       "4         8139.48    2390.01  2207.11       580.61       3.88           1.31\n",
       "5         6010.35    1363.36  2216.56       667.85       3.03           1.29\n",
       "6         5901.10    1467.36  1904.73       557.29       3.35           1.43\n",
       "7         6752.58    2048.89  1947.22       524.71       3.81           1.96\n",
       "8         7371.68    2355.23  1777.22       694.66       5.10           2.96\n",
       "9         5478.37    1899.67  1700.88       561.58       3.56           2.02\n",
       "10        5803.90    2801.65  1376.36       506.79       4.81           2.74\n",
       "11        3830.59    1196.62  1429.26       472.91       3.03           1.51\n",
       "12        3471.42    1657.49  1364.71       464.98       2.70           1.56"
      ]
     },
     "execution_count": 9,
     "metadata": {},
     "output_type": "execute_result"
    }
   ],
   "source": [
    "anual"
   ]
  },
  {
   "cell_type": "code",
   "execution_count": 10,
   "metadata": {},
   "outputs": [
    {
     "data": {
      "text/plain": [
       "3.7133333333333343"
      ]
     },
     "execution_count": 10,
     "metadata": {},
     "output_type": "execute_result"
    }
   ],
   "source": [
    "anual.u_mean_24.mean()"
   ]
  },
  {
   "cell_type": "code",
   "execution_count": 11,
   "metadata": {},
   "outputs": [],
   "source": [
    "meses_nom = ['JAN', 'FEB', 'MAR', 'APR', 'MAY', 'JUN', 'JUL', 'AUG', 'SEP', 'OCT', 'NOV', 'DIC']"
   ]
  },
  {
   "cell_type": "code",
   "execution_count": 12,
   "metadata": {},
   "outputs": [
    {
     "data": {
      "text/plain": [
       "(array([ 1,  2,  3,  4,  5,  6,  7,  8,  9, 10, 11, 12]),\n",
       " <a list of 12 Text xticklabel objects>)"
      ]
     },
     "execution_count": 12,
     "metadata": {},
     "output_type": "execute_result"
    },
    {
     "data": {
      "image/png": "[encoded data removed]",
      "text/plain": [
       "<Figure size 504x576 with 3 Axes>"
      ]
     },
     "metadata": {
      "needs_background": "light"
     },
     "output_type": "display_data"
    }
   ],
   "source": [
    "import matplotlib.gridspec as gridspec\n",
    "plt.rcParams['font.family'] = \"Times New Roman\"\n",
    "plt.rcParams.update({'font.size': 13})\n",
    "\n",
    "minor_axis = np.linspace(1, 12, 12)\n",
    "\n",
    "plt.figure(figsize = (7,8))\n",
    "gs1 = gridspec.GridSpec(3,1)\n",
    "gs1.update(hspace=0.05) # set the spacing between axes. \n",
    "\n",
    "ax1 = plt.subplot(gs1[0])\n",
    "ax1.plot(anual['VC_24'], color = 'k')\n",
    "ax1.errorbar(anual.index.values, anual['VC_24'].values, yerr=anual['VC_24_std'].values, fmt='^', color = 'k')\n",
    "ax1.set_xticks(minor_axis, minor=True)\n",
    "ax1.grid(which='both')\n",
    "ax1.tick_params(labelbottom=False)\n",
    "ax1.set_ylabel('VC ($m^2/s$)')\n",
    "ax1.set_xlim(0, 13)\n",
    "ax1.set_ylim(0, 12000)\n",
    "ax1.get_yaxis().set_label_coords(-0.08,0.5)\n",
    "\n",
    "ax2 = plt.subplot(gs1[1])\n",
    "ax2.plot(anual['pblh_24'], color = 'k')\n",
    "ax2.errorbar(anual.index.values, anual['pblh_24'].values, yerr=anual['pblh_24_std'].values, fmt='s', color = 'k')\n",
    "ax2.set_xticks(minor_axis, minor=True)\n",
    "ax2.grid(which='both')\n",
    "ax2.tick_params(labelbottom=False)\n",
    "ax2.set_ylabel('PBLH ($m$)')\n",
    "ax2.set_ylim(0, 3200)\n",
    "ax2.set_xlim(0, 13)\n",
    "ax2.get_yaxis().set_label_coords(-0.08,0.5)\n",
    "\n",
    "ax3 = plt.subplot(gs1[2])\n",
    "ax3.plot(anual['u_mean_24'], color = 'k')\n",
    "ax3.errorbar(anual.index.values, anual['u_mean_24'].values, yerr=anual['u_mean_24_std'].values, fmt='d', color = 'k')\n",
    "ax3.set_xticks(minor_axis, minor=True)\n",
    "ax3.grid(which='both')\n",
    "ax3.set_ylabel('<U> ($m/s$)')\n",
    "ax3.set_xlim(0, 13)\n",
    "ax3.set_ylim(0, 8.8)\n",
    "ax3.get_yaxis().set_label_coords(-0.08,0.5)\n",
    "ax3.set_xticks(range(1,13));\n",
    "ax3.set_xticklabels(meses_nom);\n",
    "\n",
    "plt.xticks(rotation=90)"
   ]
  },
  {
   "cell_type": "code",
   "execution_count": 13,
   "metadata": {},
   "outputs": [
    {
     "data": {
      "text/plain": [
       "2390.009617743495"
      ]
     },
     "execution_count": 13,
     "metadata": {},
     "output_type": "execute_result"
    }
   ],
   "source": [
    "apr['VC_24'].std()"
   ]
  },
  {
   "cell_type": "code",
   "execution_count": 14,
   "metadata": {},
   "outputs": [
    {
     "data": {
      "text/plain": [
       "(array([ 1,  2,  3,  4,  5,  6,  7,  8,  9, 10, 11, 12]),\n",
       " <a list of 12 Text xticklabel objects>)"
      ]
     },
     "execution_count": 14,
     "metadata": {},
     "output_type": "execute_result"
    },
    {
     "data": {
      "image/png": "[encoded data removed]",
      "text/plain": [
       "<Figure size 504x576 with 3 Axes>"
      ]
     },
     "metadata": {
      "needs_background": "light"
     },
     "output_type": "display_data"
    }
   ],
   "source": [
    "import matplotlib.gridspec as gridspec\n",
    "plt.rcParams['font.family'] = \"Times New Roman\"\n",
    "plt.rcParams.update({'font.size': 13})\n",
    "\n",
    "minor_axis = np.linspace(1, 12, 12)\n",
    "\n",
    "plt.figure(figsize = (7,8))\n",
    "gs1 = gridspec.GridSpec(3,1)\n",
    "gs1.update(hspace=0.05) # set the spacing between axes. \n",
    "\n",
    "ax1 = plt.subplot(gs1[0])\n",
    "\n",
    "ax1.plot(anual['VC_24'], color = 'k')\n",
    "ax1.fill_between(minor_axis, anual['VC_24'] - anual['VC_24_std'], anual['VC_24'] + anual['VC_24_std'], facecolor= 'grey', alpha=0.3, edgecolor='none')\n",
    "ax1.scatter(anual.index.values, anual['VC_24'].values, marker = 's', color = 'k')\n",
    "\n",
    "ax1.set_xticks(minor_axis, minor=True)\n",
    "ax1.grid(which='both')\n",
    "ax1.tick_params(labelbottom=False)\n",
    "ax1.set_ylabel('VC ($m^2/s$)')\n",
    "ax1.set_xlim(0, 13)\n",
    "ax1.set_ylim(0, 12000)\n",
    "ax1.get_yaxis().set_label_coords(-0.08,0.5)\n",
    "\n",
    "ax2 = plt.subplot(gs1[1])\n",
    "\n",
    "ax2.plot(anual['pblh_24'], color = 'k')\n",
    "ax2.fill_between(minor_axis, anual['pblh_24'] - anual['pblh_24_std'], anual['pblh_24'] + anual['pblh_24_std'], facecolor= 'grey', alpha=0.3, edgecolor='none')\n",
    "ax2.scatter(anual.index.values, anual['pblh_24'].values, marker = 's', color = 'k')\n",
    "\n",
    "ax2.set_xticks(minor_axis, minor=True)\n",
    "ax2.grid(which='both')\n",
    "ax2.tick_params(labelbottom=False)\n",
    "ax2.set_ylabel('PBLH ($m$)')\n",
    "ax2.set_ylim(0, 3200)\n",
    "ax2.set_xlim(0, 13)\n",
    "ax2.get_yaxis().set_label_coords(-0.08,0.5)\n",
    "\n",
    "ax3 = plt.subplot(gs1[2])\n",
    "\n",
    "ax3.plot(anual['u_mean_24'], color = 'k')\n",
    "ax3.fill_between(minor_axis, anual['u_mean_24'] - anual['u_mean_24_std'], anual['u_mean_24'] + anual['u_mean_24_std'], facecolor= 'grey', alpha=0.3, edgecolor='none')\n",
    "ax3.scatter(anual.index.values, anual['u_mean_24'].values, marker = 's', color = 'k')\n",
    "\n",
    "ax3.set_xticks(minor_axis, minor=True)\n",
    "ax3.grid(which='both')\n",
    "ax3.set_ylabel('<U> ($m/s$)')\n",
    "ax3.set_xlim(0, 13)\n",
    "ax3.set_ylim(0, 8.8)\n",
    "ax3.get_yaxis().set_label_coords(-0.08,0.5)\n",
    "ax3.set_xticks(range(1,13));\n",
    "ax3.set_xticklabels(meses_nom);\n",
    "\n",
    "plt.xticks(rotation=90)"
   ]
  },
  {
   "cell_type": "markdown",
   "metadata": {},
   "source": [
    "# Promedio de los máximos"
   ]
  },
  {
   "cell_type": "code",
   "execution_count": 15,
   "metadata": {},
   "outputs": [],
   "source": [
    "VC_prom_max_anual = anual['VC_24'].mean()"
   ]
  },
  {
   "cell_type": "code",
   "execution_count": 16,
   "metadata": {},
   "outputs": [
    {
     "data": {
      "text/plain": [
       "5797.012500000001"
      ]
     },
     "execution_count": 16,
     "metadata": {},
     "output_type": "execute_result"
    }
   ],
   "source": [
    "VC_prom_max_anual"
   ]
  },
  {
   "cell_type": "code",
   "execution_count": 17,
   "metadata": {},
   "outputs": [],
   "source": [
    "path2Dataframes = '../datos/dataframes_VC/cca/'"
   ]
  },
  {
   "cell_type": "code",
   "execution_count": 18,
   "metadata": {},
   "outputs": [],
   "source": [
    "vc_anual = pd.DataFrame()\n",
    "\n",
    "for mm in months.keys():\n",
    "    loc_path = path2Dataframes + mm + '_dataframe_cca.csv'\n",
    "    comosea = pd.read_csv(loc_path, index_col=0)\n",
    "    comosea.index = pd.to_datetime(comosea.index)\n",
    "    \n",
    "    vc_anual = pd.concat([vc_anual, comosea])"
   ]
  },
  {
   "cell_type": "code",
   "execution_count": 19,
   "metadata": {},
   "outputs": [],
   "source": [
    "vc_anual = vc_anual.sort_index()"
   ]
  },
  {
   "cell_type": "code",
   "execution_count": 20,
   "metadata": {},
   "outputs": [],
   "source": [
    "VC_prom_anual = vc_anual['VC_24'].mean()"
   ]
  },
  {
   "cell_type": "code",
   "execution_count": 21,
   "metadata": {},
   "outputs": [
    {
     "data": {
      "text/plain": [
       "1616.1890096618358"
      ]
     },
     "execution_count": 21,
     "metadata": {},
     "output_type": "execute_result"
    }
   ],
   "source": [
    "VC_prom_anual"
   ]
  },
  {
   "cell_type": "code",
   "execution_count": 22,
   "metadata": {},
   "outputs": [],
   "source": [
    "df_final = pd.DataFrame({'VC_prom_anual': [VC_prom_anual], 'VC_prom_max_anual': [VC_prom_max_anual]})"
   ]
  },
  {
   "cell_type": "code",
   "execution_count": 23,
   "metadata": {},
   "outputs": [],
   "source": [
    "df_final.to_csv('../datos/dataframes_VC/cca/VC_promedios_anuales_cca.csv')"
   ]
  },
  {
   "cell_type": "markdown",
   "metadata": {},
   "source": [
    "# VC promedio mensual"
   ]
  },
  {
   "cell_type": "code",
   "execution_count": 24,
   "metadata": {},
   "outputs": [],
   "source": [
    "anual_promedio = pd.read_csv(path2VCprom + 'VC_mean_anual_cca.csv', index_col=0)"
   ]
  },
  {
   "cell_type": "code",
   "execution_count": 25,
   "metadata": {},
   "outputs": [
    {
     "data": {
      "text/plain": [
       "(array([ 1,  2,  3,  4,  5,  6,  7,  8,  9, 10, 11, 12]),\n",
       " <a list of 12 Text xticklabel objects>)"
      ]
     },
     "execution_count": 25,
     "metadata": {},
     "output_type": "execute_result"
    },
    {
     "data": {
      "image/png": "[encoded data removed]",
      "text/plain": [
       "<Figure size 504x576 with 3 Axes>"
      ]
     },
     "metadata": {
      "needs_background": "light"
     },
     "output_type": "display_data"
    }
   ],
   "source": [
    "import matplotlib.gridspec as gridspec\n",
    "plt.rcParams['font.family'] = \"Times New Roman\"\n",
    "plt.rcParams.update({'font.size': 13})\n",
    "\n",
    "minor_axis = np.linspace(1, 12, 12)\n",
    "\n",
    "plt.figure(figsize = (7,8))\n",
    "gs1 = gridspec.GridSpec(3,1)\n",
    "gs1.update(hspace=0.05) # set the spacing between axes. \n",
    "\n",
    "ax1 = plt.subplot(gs1[0])\n",
    "\n",
    "ax1.plot(anual_promedio['VC_24'], color = 'k')\n",
    "ax1.fill_between(minor_axis, anual_promedio['VC_24'] - anual_promedio['VC_24_std'], anual_promedio['VC_24'] + anual_promedio['VC_24_std'], facecolor= 'grey', alpha=0.3, edgecolor='none')\n",
    "ax1.scatter(anual_promedio.index.values, anual_promedio['VC_24'].values, marker = 's', color = 'k')\n",
    "\n",
    "ax1.set_xticks(minor_axis, minor=True)\n",
    "ax1.grid(which='both')\n",
    "ax1.tick_params(labelbottom=False)\n",
    "ax1.set_ylabel('VC ($m^2/s$)')\n",
    "ax1.set_xlim(0, 13)\n",
    "ax1.set_ylim(0, 3500)\n",
    "ax1.get_yaxis().set_label_coords(-0.08,0.5)\n",
    "\n",
    "ax2 = plt.subplot(gs1[1])\n",
    "\n",
    "ax2.plot(anual_promedio['pblh_24'], color = 'k')\n",
    "ax2.fill_between(minor_axis, anual_promedio['pblh_24'] - anual_promedio['pblh_24_std'], anual_promedio['pblh_24'] + anual_promedio['pblh_24_std'], facecolor= 'grey', alpha=0.3, edgecolor='none')\n",
    "ax2.scatter(anual_promedio.index.values, anual_promedio['pblh_24'].values, marker = 's', color = 'k')\n",
    "\n",
    "ax2.set_xticks(minor_axis, minor=True)\n",
    "ax2.grid(which='both')\n",
    "ax2.tick_params(labelbottom=False)\n",
    "ax2.set_ylabel('PBLH ($m$)')\n",
    "ax2.set_ylim(0, 1100)\n",
    "ax2.set_xlim(0, 13)\n",
    "ax2.get_yaxis().set_label_coords(-0.08,0.5)\n",
    "\n",
    "ax3 = plt.subplot(gs1[2])\n",
    "\n",
    "ax3.plot(anual_promedio['u_mean_24'], color = 'k')\n",
    "ax3.fill_between(minor_axis, anual_promedio['u_mean_24'] - anual_promedio['u_mean_24_std'], anual_promedio['u_mean_24'] + anual_promedio['u_mean_24_std'], facecolor= 'grey', alpha=0.3, edgecolor='none')\n",
    "ax3.scatter(anual_promedio.index.values, anual_promedio['u_mean_24'].values, marker = 's', color = 'k')\n",
    "\n",
    "ax3.set_xticks(minor_axis, minor=True)\n",
    "ax3.grid(which='both')\n",
    "ax3.set_ylabel('<U> ($m/s$)')\n",
    "ax3.set_xlim(0, 13)\n",
    "ax3.set_ylim(0, 3.8)\n",
    "ax3.get_yaxis().set_label_coords(-0.08,0.5)\n",
    "ax3.set_xticks(range(1,13));\n",
    "ax3.set_xticklabels(meses_nom);\n",
    "\n",
    "plt.xticks(rotation=90)"
   ]
  },
  {
   "cell_type": "code",
   "execution_count": 25,
   "metadata": {},
   "outputs": [
    {
     "data": {
      "text/plain": [
       "            VC_24  VC_24_std  pblh_24  pblh_24_std  u_mean_24  u_mean_24_std\n",
       "month_ix                                                                    \n",
       "1         1193.86     305.77   574.58        75.90       1.83           0.35\n",
       "2         1527.60     407.72   634.39       103.69       2.17           0.53\n",
       "3         1845.96    1056.07   710.67       106.65       2.33           0.98\n",
       "4         2124.23     554.36   844.71       100.13       2.39           0.60\n",
       "5         1623.60     302.84   848.71        81.80       1.86           0.26\n",
       "6         1699.87     399.19   789.72       126.19       1.94           0.29\n",
       "7         1794.26     500.80   782.28       108.21       2.02           0.41\n",
       "8         2009.81     685.32   774.11       100.03       2.23           0.63\n",
       "9         1567.84     548.41   697.49       152.45       1.94           0.42\n",
       "10        1646.08     670.72   634.26       123.12       2.18           0.67\n",
       "11        1185.76     332.51   565.60        73.63       1.93           0.51\n",
       "12         958.15     441.26   449.62       127.55       1.89           0.43"
      ]
     },
     "execution_count": 25,
     "metadata": {},
     "output_type": "execute_result"
    }
   ],
   "source": [
    "anual_promedio"
   ]
  },
  {
   "cell_type": "code",
   "execution_count": 56,
   "metadata": {},
   "outputs": [
    {
     "data": {
      "text/plain": [
       "1431.7"
      ]
     },
     "execution_count": 56,
     "metadata": {},
     "output_type": "execute_result"
    }
   ],
   "source": [
    "2.06 * 695"
   ]
  },
  {
   "cell_type": "code",
   "execution_count": 55,
   "metadata": {},
   "outputs": [
    {
     "data": {
      "text/plain": [
       "2.059166666666667"
      ]
     },
     "execution_count": 55,
     "metadata": {},
     "output_type": "execute_result"
    }
   ],
   "source": [
    "anual_promedio['u_mean_24'].mean()"
   ]
  },
  {
   "cell_type": "code",
   "execution_count": 35,
   "metadata": {},
   "outputs": [
    {
     "data": {
      "text/plain": [
       "1193.8599999999999"
      ]
     },
     "execution_count": 35,
     "metadata": {},
     "output_type": "execute_result"
    }
   ],
   "source": [
    "anual.loc[i]['VC_24']"
   ]
  },
  {
   "cell_type": "code",
   "execution_count": null,
   "metadata": {},
   "outputs": [],
   "source": [
    "anual.loc[i]['VC_24'], ' & ', anual.loc[i]['pblh_24'], ' & ', anual.loc[i]['u_mean_24'], ' & '"
   ]
  },
  {
   "cell_type": "code",
   "execution_count": 39,
   "metadata": {},
   "outputs": [
    {
     "data": {
      "text/plain": [
       "{'apr': '04',\n",
       " 'aug': '08',\n",
       " 'dic': '12',\n",
       " 'feb': '02',\n",
       " 'jan': '01',\n",
       " 'jul': '07',\n",
       " 'jun': '06',\n",
       " 'mar': '03',\n",
       " 'may': '05',\n",
       " 'nov': '11',\n",
       " 'oct': '10',\n",
       " 'sep': '09'}"
      ]
     },
     "execution_count": 39,
     "metadata": {},
     "output_type": "execute_result"
    }
   ],
   "source": [
    "months"
   ]
  },
  {
   "cell_type": "code",
   "execution_count": 40,
   "metadata": {},
   "outputs": [],
   "source": [
    "meses_names = {1:'Enero', 2:'Febrero', 3:'Marzo', 4:'Abril', 5:'Mayo', 6:'Junio', 7:'Julio', 8:'Agosto', 9:'Septiembre', 10:'Octubre', 11:'Noviembre', 12:'Diciembre'}"
   ]
  },
  {
   "cell_type": "code",
   "execution_count": 41,
   "metadata": {},
   "outputs": [
    {
     "data": {
      "text/plain": [
       "'Enero'"
      ]
     },
     "execution_count": 41,
     "metadata": {},
     "output_type": "execute_result"
    }
   ],
   "source": [
    "meses_names[1]"
   ]
  },
  {
   "cell_type": "code",
   "execution_count": 50,
   "metadata": {},
   "outputs": [
    {
     "name": "stdout",
     "output_type": "stream",
     "text": [
      "Enero  &  1193.86  &  574.58  &  1.83  &  4322.24  &  1676.08  &  3.07 \\\\\n",
      "Febrero  &  1527.6  &  634.39  &  2.17  &  5738.21  &  1747.08  &  3.89 \\\\\n",
      "Marzo  &  1845.96  &  710.67  &  2.33  &  6744.23  &  1734.47  &  4.33 \\\\\n",
      "Abril  &  2124.23  &  844.71  &  2.39  &  8139.48  &  2207.11  &  3.88 \\\\\n",
      "Mayo  &  1623.6  &  848.71  &  1.86  &  6010.35  &  2216.56  &  3.03 \\\\\n",
      "Junio  &  1699.87  &  789.72  &  1.94  &  5901.1  &  1904.73  &  3.35 \\\\\n",
      "Julio  &  1794.26  &  782.28  &  2.02  &  6752.58  &  1947.22  &  3.81 \\\\\n",
      "Agosto  &  2009.81  &  774.11  &  2.23  &  7371.68  &  1777.22  &  5.1 \\\\\n",
      "Septiembre  &  1567.84  &  697.49  &  1.94  &  5478.37  &  1700.88  &  3.56 \\\\\n",
      "Octubre  &  1646.08  &  634.26  &  2.18  &  5803.9  &  1376.36  &  4.81 \\\\\n",
      "Noviembre  &  1185.76  &  565.6  &  1.93  &  3830.59  &  1429.26  &  3.03 \\\\\n",
      "Diciembre  &  958.15  &  449.62  &  1.89  &  3471.42  &  1364.71  &  2.7 \\\\\n"
     ]
    }
   ],
   "source": [
    "for i in range(1,13):\n",
    "    print(meses_names[i], ' & ' ,anual_promedio.loc[i]['VC_24'], ' & ', anual_promedio.loc[i]['pblh_24'], ' & ', anual_promedio.loc[i]['u_mean_24'], ' & ',anual.loc[i]['VC_24'], ' & ', anual.loc[i]['pblh_24'], ' & ', anual.loc[i]['u_mean_24'], \"\\\\\" + \"\\\\\")\n",
    "          \n",
    "          "
   ]
  },
  {
   "cell_type": "code",
   "execution_count": null,
   "metadata": {},
   "outputs": [],
   "source": []
  }
 ],
 "metadata": {
  "kernelspec": {
   "display_name": "Python 3",
   "language": "python",
   "name": "python3"
  },
  "language_info": {
   "codemirror_mode": {
    "name": "ipython",
    "version": 3
   },
   "file_extension": ".py",
   "mimetype": "text/x-python",
   "name": "python",
   "nbconvert_exporter": "python",
   "pygments_lexer": "ipython3",
   "version": "3.7.3"
  }
 },
 "nbformat": 4,
 "nbformat_minor": 2
}
