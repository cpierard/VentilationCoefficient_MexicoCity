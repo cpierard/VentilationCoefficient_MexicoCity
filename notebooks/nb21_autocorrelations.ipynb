{
 "cells": [
  {
   "cell_type": "code",
   "execution_count": 2,
   "metadata": {},
   "outputs": [],
   "source": [
    "import importlib.util\n",
    "spec = importlib.util.spec_from_file_location(\"BoundaryLayerToolbox\", \"/Users/claudiopierard/VC/BoundaryLayerToolbox.py\")\n",
    "blt = importlib.util.module_from_spec(spec)\n",
    "spec.loader.exec_module(blt)\n",
    "import matplotlib\n",
    "import numpy as np\n",
    "import numpy.ma as ma\n",
    "\n",
    "import h5py\n",
    "import matplotlib.pyplot as plt\n",
    "import scipy as spy\n",
    "import scipy.io as sio\n",
    "import scipy.optimize as optimization\n",
    "import scipy.interpolate as interpolate\n",
    "from netCDF4 import Dataset\n",
    "import os\n",
    "import pandas as pd\n",
    "#pd.set_option('html', False)\n",
    "from IPython import display\n",
    "\n",
    "#matplotlib\n",
    "from matplotlib import animation\n",
    "import matplotlib.colors as colors\n",
    "from mpl_toolkits.axes_grid1 import make_axes_locatable\n",
    "%matplotlib inline\n",
    "from mpl_toolkits.axes_grid1 import host_subplot\n",
    "import mpl_toolkits.axisartist as AA\n",
    "import datetime\n",
    "plt.rcParams.update({'font.size': 12})\n",
    "\n",
    "from scipy.stats import stats\n",
    "\n",
    "xlat = np.loadtxt(\"/Users/claudiopierard/VC/datos/xlat_d02_interpolado.txt\")\n",
    "xlong = np.loadtxt(\"/Users/claudiopierard/VC/datos/xlong_d02_interpolado.txt\")\n",
    "hgt = np.loadtxt(\"/Users/claudiopierard/VC/datos/hgt_d02_interpolado.txt\")\n",
    "#months = {1:'jun', 2:'feb', 3:'mar',4: 'apr', 5:'may', 6:'jun', 7:'jul', 8:'aug', 9:'sep', 10:'oct', 11:'nov', 12:'dic'}\n",
    "path2datosVC = \"../datos/dataframes_VC_contaminantes/cca/\"\n"
   ]
  },
  {
   "cell_type": "code",
   "execution_count": 4,
   "metadata": {},
   "outputs": [],
   "source": [
    "jan_series = pd.read_csv(path2datosVC+ 'jan_vc_contaminantes_cca.csv', index_col=0)"
   ]
  },
  {
   "cell_type": "code",
   "execution_count": 10,
   "metadata": {},
   "outputs": [
    {
     "data": {
      "text/plain": [
       "array([nan])"
      ]
     },
     "execution_count": 10,
     "metadata": {},
     "output_type": "execute_result"
    }
   ],
   "source": [
    "np.correlate(jan_series['VC_24'], jan_series['o3'])"
   ]
  },
  {
   "cell_type": "code",
   "execution_count": 11,
   "metadata": {},
   "outputs": [
    {
     "data": {
      "text/plain": [
       "2015-01-01 00:00:00     NaN\n",
       "2015-01-01 01:00:00     2.0\n",
       "2015-01-01 02:00:00     4.0\n",
       "2015-01-01 03:00:00     1.0\n",
       "2015-01-01 04:00:00     2.0\n",
       "2015-01-01 05:00:00     1.0\n",
       "2015-01-01 06:00:00     1.0\n",
       "2015-01-01 07:00:00     1.0\n",
       "2015-01-01 08:00:00     2.0\n",
       "2015-01-01 09:00:00     4.0\n",
       "2015-01-01 10:00:00    22.0\n",
       "2015-01-01 11:00:00    54.0\n",
       "2015-01-01 12:00:00    75.0\n",
       "2015-01-01 13:00:00    72.0\n",
       "2015-01-01 14:00:00    56.0\n",
       "2015-01-01 15:00:00    43.0\n",
       "2015-01-01 16:00:00    41.0\n",
       "2015-01-01 17:00:00    39.0\n",
       "2015-01-01 18:00:00    34.0\n",
       "2015-01-01 19:00:00    31.0\n",
       "2015-01-01 20:00:00    19.0\n",
       "2015-01-01 21:00:00    11.0\n",
       "2015-01-01 22:00:00     2.0\n",
       "2015-01-01 23:00:00     1.0\n",
       "2015-01-02 00:00:00     1.0\n",
       "2015-01-02 01:00:00     0.0\n",
       "2015-01-02 02:00:00     0.0\n",
       "2015-01-02 03:00:00     1.0\n",
       "2015-01-02 04:00:00     0.0\n",
       "2015-01-02 05:00:00     0.0\n",
       "                       ... \n",
       "2015-01-30 18:00:00    69.0\n",
       "2015-01-30 19:00:00    54.0\n",
       "2015-01-30 20:00:00    29.0\n",
       "2015-01-30 21:00:00    14.0\n",
       "2015-01-30 22:00:00    14.0\n",
       "2015-01-30 23:00:00     6.0\n",
       "2015-01-31 00:00:00     3.0\n",
       "2015-01-31 01:00:00     6.0\n",
       "2015-01-31 02:00:00     1.0\n",
       "2015-01-31 03:00:00     1.0\n",
       "2015-01-31 04:00:00     1.0\n",
       "2015-01-31 05:00:00     1.0\n",
       "2015-01-31 06:00:00     1.0\n",
       "2015-01-31 07:00:00     1.0\n",
       "2015-01-31 08:00:00     1.0\n",
       "2015-01-31 09:00:00     4.0\n",
       "2015-01-31 10:00:00    16.0\n",
       "2015-01-31 11:00:00    32.0\n",
       "2015-01-31 12:00:00    44.0\n",
       "2015-01-31 13:00:00    64.0\n",
       "2015-01-31 14:00:00    68.0\n",
       "2015-01-31 15:00:00    64.0\n",
       "2015-01-31 16:00:00    39.0\n",
       "2015-01-31 17:00:00    65.0\n",
       "2015-01-31 18:00:00    64.0\n",
       "2015-01-31 19:00:00    52.0\n",
       "2015-01-31 20:00:00    45.0\n",
       "2015-01-31 21:00:00    22.0\n",
       "2015-01-31 22:00:00     9.0\n",
       "2015-01-31 23:00:00     1.0\n",
       "Name: o3, Length: 744, dtype: float64"
      ]
     },
     "execution_count": 11,
     "metadata": {},
     "output_type": "execute_result"
    }
   ],
   "source": [
    "jan_series['o3']"
   ]
  },
  {
   "cell_type": "code",
   "execution_count": null,
   "metadata": {},
   "outputs": [],
   "source": []
  }
 ],
 "metadata": {
  "kernelspec": {
   "display_name": "Python 3",
   "language": "python",
   "name": "python3"
  },
  "language_info": {
   "codemirror_mode": {
    "name": "ipython",
    "version": 3
   },
   "file_extension": ".py",
   "mimetype": "text/x-python",
   "name": "python",
   "nbconvert_exporter": "python",
   "pygments_lexer": "ipython3",
   "version": "3.7.3"
  }
 },
 "nbformat": 4,
 "nbformat_minor": 2
}
