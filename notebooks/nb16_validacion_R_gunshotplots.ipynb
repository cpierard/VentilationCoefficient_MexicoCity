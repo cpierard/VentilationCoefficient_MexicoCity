{
 "cells": [
  {
   "cell_type": "code",
   "execution_count": 1,
   "metadata": {},
   "outputs": [],
   "source": [
    "import pandas as pd\n",
    "import numpy as np\n",
    "import matplotlib.pyplot as plt\n",
    "%matplotlib inline"
   ]
  },
  {
   "cell_type": "code",
   "execution_count": 2,
   "metadata": {},
   "outputs": [],
   "source": [
    "months = {'jan': '01', 'feb': '02', 'mar': '03', 'apr': '04', 'may': '05', 'jun': '06', 'jul': '07', 'aug': '08', 'sep': '09', 'oct':'10', 'nov':'11', 'dic': '12'}"
   ]
  },
  {
   "cell_type": "code",
   "execution_count": 3,
   "metadata": {},
   "outputs": [],
   "source": [
    "path2graficas = '../graficas/cca/'"
   ]
  },
  {
   "cell_type": "code",
   "execution_count": 4,
   "metadata": {},
   "outputs": [],
   "source": [
    "apr = pd.read_csv(path2graficas + 'apr/parametros_ajustes_gunshotplots_apr_cca.csv', index_col=0)"
   ]
  },
  {
   "cell_type": "code",
   "execution_count": 5,
   "metadata": {},
   "outputs": [
    {
     "data": {
      "text/html": [
       "<div>\n",
       "<table border=\"1\" class=\"dataframe\">\n",
       "  <thead>\n",
       "    <tr style=\"text-align: right;\">\n",
       "      <th></th>\n",
       "      <th>intercept</th>\n",
       "      <th>month_numb</th>\n",
       "      <th>plot_name</th>\n",
       "      <th>r_value</th>\n",
       "      <th>slope</th>\n",
       "    </tr>\n",
       "  </thead>\n",
       "  <tbody>\n",
       "    <tr>\n",
       "      <th>0</th>\n",
       "      <td>-291.5706</td>\n",
       "      <td>4</td>\n",
       "      <td>GSP_apr_Raw_PBLH_24</td>\n",
       "      <td>0.6776</td>\n",
       "      <td>0.7056</td>\n",
       "    </tr>\n",
       "    <tr>\n",
       "      <th>1</th>\n",
       "      <td>-439.7232</td>\n",
       "      <td>4</td>\n",
       "      <td>GSP_apr_Raw_mean_PBLH_24</td>\n",
       "      <td>0.7391</td>\n",
       "      <td>0.8009</td>\n",
       "    </tr>\n",
       "    <tr>\n",
       "      <th>2</th>\n",
       "      <td>-205.0613</td>\n",
       "      <td>4</td>\n",
       "      <td>GSP_apr_Raw_PBLH_48</td>\n",
       "      <td>0.6746</td>\n",
       "      <td>0.6744</td>\n",
       "    </tr>\n",
       "    <tr>\n",
       "      <th>3</th>\n",
       "      <td>-335.1016</td>\n",
       "      <td>4</td>\n",
       "      <td>GSP_apr_Raw_mean_PBLH_48</td>\n",
       "      <td>0.7278</td>\n",
       "      <td>0.7578</td>\n",
       "    </tr>\n",
       "  </tbody>\n",
       "</table>\n",
       "</div>"
      ],
      "text/plain": [
       "   intercept  month_numb                 plot_name  r_value   slope\n",
       "0  -291.5706           4       GSP_apr_Raw_PBLH_24   0.6776  0.7056\n",
       "1  -439.7232           4  GSP_apr_Raw_mean_PBLH_24   0.7391  0.8009\n",
       "2  -205.0613           4       GSP_apr_Raw_PBLH_48   0.6746  0.6744\n",
       "3  -335.1016           4  GSP_apr_Raw_mean_PBLH_48   0.7278  0.7578"
      ]
     },
     "execution_count": 5,
     "metadata": {},
     "output_type": "execute_result"
    }
   ],
   "source": [
    "apr"
   ]
  },
  {
   "cell_type": "code",
   "execution_count": 6,
   "metadata": {},
   "outputs": [],
   "source": [
    "jun = pd.read_csv(path2graficas + 'jun/parametros_ajustes_gunshotplots_jun_cca.csv', index_col=0)"
   ]
  },
  {
   "cell_type": "code",
   "execution_count": 7,
   "metadata": {},
   "outputs": [
    {
     "data": {
      "text/html": [
       "<div>\n",
       "<table border=\"1\" class=\"dataframe\">\n",
       "  <thead>\n",
       "    <tr style=\"text-align: right;\">\n",
       "      <th></th>\n",
       "      <th>intercept</th>\n",
       "      <th>month_numb</th>\n",
       "      <th>plot_name</th>\n",
       "      <th>r_value</th>\n",
       "      <th>slope</th>\n",
       "    </tr>\n",
       "  </thead>\n",
       "  <tbody>\n",
       "    <tr>\n",
       "      <th>0</th>\n",
       "      <td>3.6568</td>\n",
       "      <td>6</td>\n",
       "      <td>GSP_jun_Raw_PBLH_24</td>\n",
       "      <td>0.6133</td>\n",
       "      <td>0.5674</td>\n",
       "    </tr>\n",
       "    <tr>\n",
       "      <th>1</th>\n",
       "      <td>-139.3342</td>\n",
       "      <td>6</td>\n",
       "      <td>GSP_jun_Raw_mean_PBLH_24</td>\n",
       "      <td>0.6660</td>\n",
       "      <td>0.6653</td>\n",
       "    </tr>\n",
       "    <tr>\n",
       "      <th>2</th>\n",
       "      <td>130.3002</td>\n",
       "      <td>6</td>\n",
       "      <td>GSP_jun_Raw_PBLH_48</td>\n",
       "      <td>0.5817</td>\n",
       "      <td>0.5476</td>\n",
       "    </tr>\n",
       "    <tr>\n",
       "      <th>3</th>\n",
       "      <td>-11.8820</td>\n",
       "      <td>6</td>\n",
       "      <td>GSP_jun_Raw_mean_PBLH_48</td>\n",
       "      <td>0.6338</td>\n",
       "      <td>0.6447</td>\n",
       "    </tr>\n",
       "  </tbody>\n",
       "</table>\n",
       "</div>"
      ],
      "text/plain": [
       "   intercept  month_numb                 plot_name  r_value   slope\n",
       "0     3.6568           6       GSP_jun_Raw_PBLH_24   0.6133  0.5674\n",
       "1  -139.3342           6  GSP_jun_Raw_mean_PBLH_24   0.6660  0.6653\n",
       "2   130.3002           6       GSP_jun_Raw_PBLH_48   0.5817  0.5476\n",
       "3   -11.8820           6  GSP_jun_Raw_mean_PBLH_48   0.6338  0.6447"
      ]
     },
     "execution_count": 7,
     "metadata": {},
     "output_type": "execute_result"
    }
   ],
   "source": [
    "jun\n"
   ]
  },
  {
   "cell_type": "code",
   "execution_count": 8,
   "metadata": {},
   "outputs": [],
   "source": [
    "apr = pd.concat([apr])"
   ]
  },
  {
   "cell_type": "code",
   "execution_count": 9,
   "metadata": {},
   "outputs": [],
   "source": [
    "A = pd.concat([apr, jun])"
   ]
  },
  {
   "cell_type": "code",
   "execution_count": 10,
   "metadata": {},
   "outputs": [
    {
     "data": {
      "text/html": [
       "<div>\n",
       "<table border=\"1\" class=\"dataframe\">\n",
       "  <thead>\n",
       "    <tr style=\"text-align: right;\">\n",
       "      <th></th>\n",
       "      <th>intercept</th>\n",
       "      <th>month_numb</th>\n",
       "      <th>plot_name</th>\n",
       "      <th>r_value</th>\n",
       "      <th>slope</th>\n",
       "    </tr>\n",
       "  </thead>\n",
       "  <tbody>\n",
       "    <tr>\n",
       "      <th>1</th>\n",
       "      <td>-439.7232</td>\n",
       "      <td>4</td>\n",
       "      <td>GSP_apr_Raw_mean_PBLH_24</td>\n",
       "      <td>0.7391</td>\n",
       "      <td>0.8009</td>\n",
       "    </tr>\n",
       "    <tr>\n",
       "      <th>1</th>\n",
       "      <td>-139.3342</td>\n",
       "      <td>6</td>\n",
       "      <td>GSP_jun_Raw_mean_PBLH_24</td>\n",
       "      <td>0.6660</td>\n",
       "      <td>0.6653</td>\n",
       "    </tr>\n",
       "  </tbody>\n",
       "</table>\n",
       "</div>"
      ],
      "text/plain": [
       "   intercept  month_numb                 plot_name  r_value   slope\n",
       "1  -439.7232           4  GSP_apr_Raw_mean_PBLH_24   0.7391  0.8009\n",
       "1  -139.3342           6  GSP_jun_Raw_mean_PBLH_24   0.6660  0.6653"
      ]
     },
     "execution_count": 10,
     "metadata": {},
     "output_type": "execute_result"
    }
   ],
   "source": [
    "A.loc[1]"
   ]
  },
  {
   "cell_type": "code",
   "execution_count": 11,
   "metadata": {},
   "outputs": [
    {
     "name": "stdout",
     "output_type": "stream",
     "text": [
      "jul\n",
      "apr\n",
      "may\n",
      "jun\n",
      "aug\n",
      "mar\n",
      "feb\n",
      "dic\n",
      "jan\n",
      "nov\n",
      "sep\n",
      "oct\n"
     ]
    }
   ],
   "source": [
    "year = pd.DataFrame()\n",
    "for i in months.keys():\n",
    "    print(i)\n",
    "    mes =pd.read_csv(path2graficas + i + '/parametros_ajustes_gunshotplots_' + i +'_cca.csv', index_col=0)\n",
    "    year = pd.concat([year, mes])"
   ]
  },
  {
   "cell_type": "code",
   "execution_count": 12,
   "metadata": {},
   "outputs": [],
   "source": [
    "Raw_PBLH_24 = year.loc[0].set_index('month_numb').sort_index()"
   ]
  },
  {
   "cell_type": "code",
   "execution_count": 13,
   "metadata": {},
   "outputs": [],
   "source": [
    "Raw_mean_PBLH_24 = year.loc[1].set_index('month_numb').sort_index()"
   ]
  },
  {
   "cell_type": "code",
   "execution_count": 14,
   "metadata": {},
   "outputs": [],
   "source": [
    "Raw_PBLH_48 = year.loc[2].set_index('month_numb').sort_index()"
   ]
  },
  {
   "cell_type": "code",
   "execution_count": 15,
   "metadata": {},
   "outputs": [],
   "source": [
    "Raw_mean_PBLH_48 = year.loc[3].set_index('month_numb').sort_index()"
   ]
  },
  {
   "cell_type": "code",
   "execution_count": 16,
   "metadata": {},
   "outputs": [
    {
     "data": {
      "text/plain": [
       "month_numb\n",
       "1     0.6279\n",
       "2     0.7807\n",
       "3     0.7319\n",
       "4     0.7391\n",
       "5     0.6794\n",
       "6     0.6660\n",
       "7     0.7192\n",
       "8     0.7180\n",
       "9     0.6642\n",
       "10    0.7204\n",
       "11    0.6809\n",
       "12    0.6570\n",
       "Name: r_value, dtype: float64"
      ]
     },
     "execution_count": 16,
     "metadata": {},
     "output_type": "execute_result"
    }
   ],
   "source": [
    "Raw_mean_PBLH_24['r_value']"
   ]
  },
  {
   "cell_type": "code",
   "execution_count": 37,
   "metadata": {},
   "outputs": [
    {
     "data": {
      "text/plain": [
       "month_numb\n",
       "1     0.6279\n",
       "2     0.7807\n",
       "3     0.7319\n",
       "4     0.7391\n",
       "5     0.6794\n",
       "6     0.6660\n",
       "7     0.7192\n",
       "8     0.7180\n",
       "9     0.6642\n",
       "10    0.7204\n",
       "11    0.6809\n",
       "12    0.6570\n",
       "Name: r_value, dtype: float64"
      ]
     },
     "execution_count": 37,
     "metadata": {},
     "output_type": "execute_result"
    }
   ],
   "source": [
    "Raw_mean_PBLH_24['r_value']"
   ]
  },
  {
   "cell_type": "code",
   "execution_count": 44,
   "metadata": {},
   "outputs": [
    {
     "data": {
      "text/plain": [
       "0.6866249999999999"
      ]
     },
     "execution_count": 44,
     "metadata": {},
     "output_type": "execute_result"
    }
   ],
   "source": [
    "(0.6279 + 0.7807 + 0.6809 + 0.6570)/4"
   ]
  },
  {
   "cell_type": "code",
   "execution_count": 42,
   "metadata": {},
   "outputs": [
    {
     "data": {
      "text/plain": [
       "0.69453333333333334"
      ]
     },
     "execution_count": 42,
     "metadata": {},
     "output_type": "execute_result"
    }
   ],
   "source": [
    "Raw_mean_PBLH_24[4:10]['r_value'].mean()"
   ]
  },
  {
   "cell_type": "code",
   "execution_count": 44,
   "metadata": {},
   "outputs": [],
   "source": [
    "meses_nom = ['JAN', 'FEB', 'MAR', 'APR', 'MAY', 'JUN', 'JUL', 'AUG', 'SEP', 'OCT', 'NOV', 'DIC']"
   ]
  },
  {
   "cell_type": "code",
   "execution_count": 86,
   "metadata": {},
   "outputs": [],
   "source": [
    "meses_df = pd.DataFrame({'Mes' :['Enero', 'Febrero', 'Marzo', 'Abril', 'Mayo', 'Junio', 'Julio', 'Agosto', 'Septiembre', 'Octubre', 'Noviembre', 'Diciembre']}, index=range(1,13))"
   ]
  },
  {
   "cell_type": "markdown",
   "metadata": {},
   "source": [
    "# Raw_mean_PBLH_24"
   ]
  },
  {
   "cell_type": "code",
   "execution_count": 57,
   "metadata": {},
   "outputs": [],
   "source": [
    "plt.rcParams[\"font.family\"] = \"Times New Roman\"\n",
    "plt.rcParams.update({'font.size': 13})"
   ]
  },
  {
   "cell_type": "code",
   "execution_count": 77,
   "metadata": {},
   "outputs": [
    {
     "data": {
      "image/png": "[encoded data removed]",
      "text/plain": [
       "<matplotlib.figure.Figure at 0x10b93a2e8>"
      ]
     },
     "metadata": {},
     "output_type": "display_data"
    }
   ],
   "source": [
    "fig = plt.figure(figsize = (6,4))\n",
    "ax = fig.add_subplot(111)\n",
    "\n",
    "ax.stem(Raw_mean_PBLH_24.index, Raw_mean_PBLH_24.r_value, linefmt = 'k', markerfmt = 'ko')\n",
    "ax.set_xlim(0,13)\n",
    "ax.set_ylim(0,1)\n",
    "ax.set_xticks(range(1,13))\n",
    "ax.set_xticklabels(meses_nom, rotation = 90)\n",
    "ax.set_ylabel('$R$')\n",
    "ax.grid()\n",
    "#ax.set_xticklabels(rotation=90)\n"
   ]
  },
  {
   "cell_type": "markdown",
   "metadata": {},
   "source": [
    "# Raw_mean_PBLH_48"
   ]
  },
  {
   "cell_type": "code",
   "execution_count": 76,
   "metadata": {},
   "outputs": [
    {
     "data": {
      "image/png": "[encoded data removed]",
      "text/plain": [
       "<matplotlib.figure.Figure at 0x10bb42828>"
      ]
     },
     "metadata": {},
     "output_type": "display_data"
    }
   ],
   "source": [
    "fig = plt.figure(figsize = (6,4))\n",
    "ax = fig.add_subplot(111)\n",
    "\n",
    "ax.stem(Raw_mean_PBLH_48.index, Raw_mean_PBLH_48.r_value, linefmt = 'k', markerfmt = 'ko')\n",
    "ax.set_xlim(0,13)\n",
    "ax.set_ylim(0,1)\n",
    "ax.set_xticks(range(1,13))\n",
    "ax.set_xticklabels(meses_nom, rotation = 90)\n",
    "ax.set_ylabel('$R$')\n",
    "ax.grid()"
   ]
  },
  {
   "cell_type": "markdown",
   "metadata": {},
   "source": [
    "# Raw_PBLH_24"
   ]
  },
  {
   "cell_type": "code",
   "execution_count": 75,
   "metadata": {},
   "outputs": [
    {
     "data": {
      "image/png": "[encoded data removed]",
      "text/plain": [
       "<matplotlib.figure.Figure at 0x10bb3ba58>"
      ]
     },
     "metadata": {},
     "output_type": "display_data"
    }
   ],
   "source": [
    "fig = plt.figure(figsize = (6,4))\n",
    "ax = fig.add_subplot(111)\n",
    "\n",
    "ax.stem(Raw_PBLH_24.index, Raw_PBLH_24.r_value, linefmt = 'k', markerfmt = 'ko')\n",
    "ax.set_xlim(0,13)\n",
    "ax.set_ylim(0,1)\n",
    "ax.set_xticks(range(1,13))\n",
    "ax.set_xticklabels(meses_nom, rotation = 90)\n",
    "ax.set_ylabel('$R$')\n",
    "ax.grid()"
   ]
  },
  {
   "cell_type": "markdown",
   "metadata": {},
   "source": [
    "# Raw_PBLH_48"
   ]
  },
  {
   "cell_type": "code",
   "execution_count": 74,
   "metadata": {},
   "outputs": [
    {
     "data": {
      "image/png": "[encoded data removed]",
      "text/plain": [
       "<matplotlib.figure.Figure at 0x10bd46400>"
      ]
     },
     "metadata": {},
     "output_type": "display_data"
    }
   ],
   "source": [
    "fig = plt.figure(figsize = (6,4))\n",
    "ax = fig.add_subplot(111)\n",
    "\n",
    "ax.stem(Raw_PBLH_48.index, Raw_PBLH_48.r_value, linefmt = 'k', markerfmt = 'ko')\n",
    "ax.set_xlim(0,13)\n",
    "ax.set_ylim(0,1)\n",
    "ax.set_xticks(range(1,13))\n",
    "ax.set_xticklabels(meses_nom, rotation = 90)\n",
    "ax.set_ylabel('$R$')\n",
    "ax.grid()"
   ]
  },
  {
   "cell_type": "code",
   "execution_count": null,
   "metadata": {},
   "outputs": [],
   "source": []
  }
 ],
 "metadata": {
  "kernelspec": {
   "display_name": "Python 3",
   "language": "python",
   "name": "python3"
  },
  "language_info": {
   "codemirror_mode": {
    "name": "ipython",
    "version": 3
   },
   "file_extension": ".py",
   "mimetype": "text/x-python",
   "name": "python",
   "nbconvert_exporter": "python",
   "pygments_lexer": "ipython3",
   "version": "3.7.3"
  }
 },
 "nbformat": 4,
 "nbformat_minor": 2
}
