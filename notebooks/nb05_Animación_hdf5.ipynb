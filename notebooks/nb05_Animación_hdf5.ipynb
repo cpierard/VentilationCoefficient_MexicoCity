{
 "cells": [
  {
   "cell_type": "code",
   "execution_count": 1,
   "metadata": {},
   "outputs": [],
   "source": [
    "import importlib.util\n",
    "spec = importlib.util.spec_from_file_location(\"BoundaryLayerToolbox\", \"/Users/claudiopierard/vc/BoundaryLayerToolbox.py\")\n",
    "blt = importlib.util.module_from_spec(spec)\n",
    "spec.loader.exec_module(blt)"
   ]
  },
  {
   "cell_type": "code",
   "execution_count": 2,
   "metadata": {},
   "outputs": [],
   "source": [
    "import matplotlib\n",
    "import numpy as np\n",
    "import matplotlib.pyplot as plt\n",
    "import scipy as spy\n",
    "import scipy.io as sio\n",
    "import scipy.optimize as optimization\n",
    "import scipy.interpolate as interpolate\n",
    "from netCDF4 import Dataset\n",
    "import h5py\n",
    "from IPython import display\n",
    "from matplotlib import animation\n",
    "import matplotlib.colors as colors\n",
    "from mpl_toolkits.axes_grid1 import make_axes_locatable\n",
    "#%matplotlib inline"
   ]
  },
  {
   "cell_type": "code",
   "execution_count": 3,
   "metadata": {},
   "outputs": [],
   "source": [
    "xlat = np.loadtxt('/Users/claudiopierard/VC/datos/xlat_d02_interpolado.txt')\n",
    "xlong = np.loadtxt('/Users/claudiopierard/VC/datos/xlong_d02_interpolado.txt')"
   ]
  },
  {
   "cell_type": "code",
   "execution_count": 4,
   "metadata": {},
   "outputs": [],
   "source": [
    "PED = (-99.204136, 19.325146)\n",
    "CCA = (-99.1761, 19.3262)"
   ]
  },
  {
   "cell_type": "code",
   "execution_count": 5,
   "metadata": {},
   "outputs": [],
   "source": [
    "ped_ix = blt.near_coord_loc(xlong, xlat, PED[0], PED[1])\n",
    "cca_ix = blt.near_coord_loc(xlong, xlat, CCA[0], CCA[1])"
   ]
  },
  {
   "cell_type": "code",
   "execution_count": 6,
   "metadata": {},
   "outputs": [],
   "source": [
    "file = h5py.File('/Volumes/BUFFALO_SOLDIER/datos_VC/05/may_24.h5', 'r')\n",
    "vc_24 = file.get('vc_24h')"
   ]
  },
  {
   "cell_type": "code",
   "execution_count": 7,
   "metadata": {},
   "outputs": [],
   "source": [
    "vc_24 = np.array(vc_24)"
   ]
  },
  {
   "cell_type": "code",
   "execution_count": 8,
   "metadata": {},
   "outputs": [],
   "source": [
    "delegaciones_path = \"/Users/claudiopierard/VC/datos/delegaciones_cdmx/\"\n",
    "estados_path = \"/Users/claudiopierard/VC/datos/EstadosMX/\""
   ]
  },
  {
   "cell_type": "code",
   "execution_count": 9,
   "metadata": {},
   "outputs": [],
   "source": [
    "delegaciones_names = blt.nombres_delegaciones #extrae un lista con las delegaciones guardada en el módulo blt.\n",
    "estados_names = blt.nombres_estados"
   ]
  },
  {
   "cell_type": "code",
   "execution_count": 10,
   "metadata": {},
   "outputs": [],
   "source": [
    "delegaciones = {}\n",
    "for i in delegaciones_names:\n",
    "    reg = blt.region()\n",
    "    path = delegaciones_path + i + \".xy\"\n",
    "    blt.read_region(reg, path)\n",
    "    delegaciones[i] = reg\n",
    "    "
   ]
  },
  {
   "cell_type": "code",
   "execution_count": 11,
   "metadata": {},
   "outputs": [],
   "source": [
    "estados = {}\n",
    "for i in estados_names:\n",
    "    reg = blt.region()\n",
    "    path = estados_path + i + \".xy\"\n",
    "    blt.read_region(reg, path)\n",
    "    estados[i] = reg"
   ]
  },
  {
   "cell_type": "code",
   "execution_count": 12,
   "metadata": {},
   "outputs": [
    {
     "data": {
      "text/plain": [
       "13158"
      ]
     },
     "execution_count": 12,
     "metadata": {},
     "output_type": "execute_result"
    }
   ],
   "source": [
    "vc_24[:, :, 50:75, 15:50].max()"
   ]
  },
  {
   "cell_type": "code",
   "execution_count": 13,
   "metadata": {},
   "outputs": [],
   "source": [
    "plt.close('all')"
   ]
  },
  {
   "cell_type": "code",
   "execution_count": 22,
   "metadata": {},
   "outputs": [
    {
     "data": {
      "text/plain": [
       "'100'"
      ]
     },
     "execution_count": 22,
     "metadata": {},
     "output_type": "execute_result"
    }
   ],
   "source": [
    "'%03d'%100"
   ]
  },
  {
   "cell_type": "code",
   "execution_count": 21,
   "metadata": {
    "scrolled": true
   },
   "outputs": [
    {
     "name": "stdout",
     "output_type": "stream",
     "text": [
      "100\n"
     ]
    }
   ],
   "source": [
    "print('%03d'%100)"
   ]
  },
  {
   "cell_type": "code",
   "execution_count": 43,
   "metadata": {
    "scrolled": false
   },
   "outputs": [
    {
     "name": "stdout",
     "output_type": "stream",
     "text": [
      "<class 'str'>\n",
      "<class 'str'>\n",
      "<class 'str'>\n",
      "<class 'str'>\n",
      "<class 'str'>\n",
      "<class 'str'>\n",
      "<class 'str'>\n",
      "<class 'str'>\n",
      "<class 'str'>\n",
      "<class 'str'>\n",
      "<class 'str'>\n",
      "<class 'str'>\n",
      "<class 'str'>\n",
      "<class 'str'>\n",
      "<class 'str'>\n",
      "<class 'str'>\n",
      "<class 'str'>\n",
      "<class 'str'>\n",
      "<class 'str'>\n",
      "<class 'str'>\n",
      "<class 'str'>\n",
      "<class 'str'>\n",
      "<class 'str'>\n",
      "<class 'str'>\n",
      "<class 'str'>\n",
      "<class 'str'>\n",
      "<class 'str'>\n",
      "<class 'str'>\n",
      "<class 'str'>\n",
      "<class 'str'>\n",
      "<class 'str'>\n",
      "<class 'str'>\n",
      "<class 'str'>\n",
      "<class 'str'>\n",
      "<class 'str'>\n",
      "<class 'str'>\n",
      "<class 'str'>\n",
      "<class 'str'>\n",
      "<class 'str'>\n",
      "<class 'str'>\n",
      "<class 'str'>\n",
      "<class 'str'>\n",
      "<class 'str'>\n",
      "<class 'str'>\n",
      "<class 'str'>\n",
      "<class 'str'>\n",
      "<class 'str'>\n",
      "<class 'str'>\n",
      "<class 'str'>\n",
      "<class 'str'>\n",
      "<class 'str'>\n",
      "<class 'str'>\n",
      "<class 'str'>\n",
      "<class 'str'>\n",
      "<class 'str'>\n",
      "<class 'str'>\n",
      "<class 'str'>\n",
      "<class 'str'>\n",
      "<class 'str'>\n",
      "<class 'str'>\n",
      "<class 'str'>\n",
      "<class 'str'>\n",
      "<class 'str'>\n",
      "<class 'str'>\n",
      "<class 'str'>\n",
      "<class 'str'>\n",
      "<class 'str'>\n",
      "<class 'str'>\n",
      "<class 'str'>\n",
      "<class 'str'>\n",
      "<class 'str'>\n",
      "<class 'str'>\n",
      "<class 'str'>\n",
      "<class 'str'>\n",
      "<class 'str'>\n",
      "<class 'str'>\n",
      "<class 'str'>\n",
      "<class 'str'>\n",
      "<class 'str'>\n",
      "<class 'str'>\n",
      "<class 'str'>\n",
      "<class 'str'>\n",
      "<class 'str'>\n",
      "<class 'str'>\n",
      "<class 'str'>\n",
      "<class 'str'>\n",
      "<class 'str'>\n",
      "<class 'str'>\n",
      "<class 'str'>\n",
      "<class 'str'>\n",
      "<class 'str'>\n",
      "<class 'str'>\n",
      "<class 'str'>\n",
      "<class 'str'>\n",
      "<class 'str'>\n",
      "<class 'str'>\n",
      "<class 'str'>\n",
      "<class 'str'>\n",
      "<class 'str'>\n",
      "<class 'str'>\n",
      "<class 'str'>\n",
      "<class 'str'>\n",
      "<class 'str'>\n",
      "<class 'str'>\n",
      "<class 'str'>\n",
      "<class 'str'>\n",
      "<class 'str'>\n",
      "<class 'str'>\n",
      "<class 'str'>\n",
      "<class 'str'>\n",
      "<class 'str'>\n",
      "<class 'str'>\n",
      "<class 'str'>\n",
      "<class 'str'>\n",
      "<class 'str'>\n",
      "<class 'str'>\n",
      "<class 'str'>\n",
      "<class 'str'>\n",
      "<class 'str'>\n",
      "<class 'str'>\n",
      "<class 'str'>\n",
      "<class 'str'>\n",
      "<class 'str'>\n",
      "<class 'str'>\n",
      "<class 'str'>\n",
      "<class 'str'>\n",
      "<class 'str'>\n",
      "<class 'str'>\n",
      "<class 'str'>\n",
      "<class 'str'>\n",
      "<class 'str'>\n",
      "<class 'str'>\n",
      "<class 'str'>\n",
      "<class 'str'>\n",
      "<class 'str'>\n",
      "<class 'str'>\n",
      "<class 'str'>\n",
      "<class 'str'>\n",
      "<class 'str'>\n",
      "<class 'str'>\n",
      "<class 'str'>\n",
      "<class 'str'>\n",
      "<class 'str'>\n",
      "<class 'str'>\n",
      "<class 'str'>\n",
      "<class 'str'>\n",
      "<class 'str'>\n",
      "<class 'str'>\n",
      "<class 'str'>\n",
      "<class 'str'>\n",
      "<class 'str'>\n",
      "<class 'str'>\n",
      "<class 'str'>\n",
      "<class 'str'>\n",
      "<class 'str'>\n",
      "<class 'str'>\n",
      "<class 'str'>\n",
      "<class 'str'>\n",
      "<class 'str'>\n",
      "<class 'str'>\n",
      "<class 'str'>\n",
      "<class 'str'>\n",
      "<class 'str'>\n",
      "<class 'str'>\n",
      "<class 'str'>\n",
      "<class 'str'>\n",
      "<class 'str'>\n",
      "<class 'str'>\n",
      "<class 'str'>\n",
      "<class 'str'>\n",
      "<class 'str'>\n",
      "<class 'str'>\n",
      "<class 'str'>\n",
      "<class 'str'>\n",
      "<class 'str'>\n",
      "<class 'str'>\n",
      "<class 'str'>\n",
      "<class 'str'>\n",
      "<class 'str'>\n",
      "<class 'str'>\n",
      "<class 'str'>\n",
      "<class 'str'>\n",
      "<class 'str'>\n",
      "<class 'str'>\n",
      "<class 'str'>\n",
      "<class 'str'>\n",
      "<class 'str'>\n",
      "<class 'str'>\n",
      "<class 'str'>\n",
      "<class 'str'>\n",
      "<class 'str'>\n",
      "<class 'str'>\n"
     ]
    }
   ],
   "source": [
    "i = 1\n",
    "for d in range(6, 14):\n",
    "    for h in range(0,24):\n",
    "        fig = plt.figure(figsize=(7,6))\n",
    "        ax = fig.add_subplot(111)\n",
    "        ax.set_xlim(xlong[50:75,0].min(), xlong[50:75,0].max())\n",
    "        ax.set_ylim(xlat[0,15:50].min(), xlat[0,15:50].max())\n",
    "        #plt.rcParams.update({'font.size': 11})\n",
    "\n",
    "        im = ax.pcolormesh(xlong[50:75, 15:50], xlat[50:75, 15:50], vc_24[d, h,50:75, 15:50], norm= colors.Normalize(vmin=1,vmax=13158))\n",
    "\n",
    "        for name in estados_names:\n",
    "            ax.plot(estados[name].lon, estados[name].lat, c='k', alpha = 0.5)\n",
    "\n",
    "        for name in delegaciones_names:\n",
    "            ax.plot(delegaciones[name].lon, delegaciones[name].lat, c='k', alpha = 0.5)\n",
    "\n",
    "        ax.scatter(xlong[cca_ix[0],cca_ix[1]], xlat[cca_ix[0],cca_ix[1]], c = 'r')\n",
    "        ax.scatter(xlong[ped_ix[0],ped_ix[1]], xlat[ped_ix[0],ped_ix[1]], c = 'cyan')\n",
    "    \n",
    "        fig.subplots_adjust(right=0.83)\n",
    "        cbar_ax = fig.add_axes([0.85, 0.13, 0.03, 0.76])\n",
    "        cbar = fig.colorbar(im, cax=cbar_ax)\n",
    "        cbar.set_label('VC $(m^2/s)$', rotation=270)\n",
    "\n",
    "        ax.set_xlabel('Longitud', fontsize=13)\n",
    "        ax.set_ylabel('Latitud', fontsize=13)\n",
    "        ax.set_title(str(d) + ' mayo ' +str(h)+':00', fontsize=13)\n",
    "        h = '%03d'%i\n",
    "        #print(type(h))\n",
    "        plt.savefig('/Users/claudiopierard/VC/animaciones/mayo_6-12_2015/may'+ h)\n",
    "        i += 1\n",
    "        plt.close(fig)"
   ]
  },
  {
   "cell_type": "markdown",
   "metadata": {},
   "source": [
    "# junio"
   ]
  },
  {
   "cell_type": "code",
   "execution_count": 44,
   "metadata": {},
   "outputs": [],
   "source": [
    "file = h5py.File('/Volumes/BUFFALO_SOLDIER/datos_VC/06/jun_24.h5', 'r')\n",
    "vc_24 = file.get('vc_24h')\n",
    "vc_24 = np.array(vc_24)"
   ]
  },
  {
   "cell_type": "code",
   "execution_count": 50,
   "metadata": {},
   "outputs": [
    {
     "ename": "AttributeError",
     "evalue": "'Colorbar' object has no attribute 'set_label_coords'",
     "output_type": "error",
     "traceback": [
      "\u001b[0;31m---------------------------------------------------------------------------\u001b[0m",
      "\u001b[0;31mAttributeError\u001b[0m                            Traceback (most recent call last)",
      "\u001b[0;32m<ipython-input-50-4a2761ba6551>\u001b[0m in \u001b[0;36m<module>\u001b[0;34m()\u001b[0m\n\u001b[1;32m     23\u001b[0m         \u001b[0mcbar\u001b[0m \u001b[0;34m=\u001b[0m \u001b[0mfig\u001b[0m\u001b[0;34m.\u001b[0m\u001b[0mcolorbar\u001b[0m\u001b[0;34m(\u001b[0m\u001b[0mim\u001b[0m\u001b[0;34m,\u001b[0m \u001b[0mcax\u001b[0m\u001b[0;34m=\u001b[0m\u001b[0mcbar_ax\u001b[0m\u001b[0;34m)\u001b[0m\u001b[0;34m\u001b[0m\u001b[0m\n\u001b[1;32m     24\u001b[0m         \u001b[0mcbar\u001b[0m\u001b[0;34m.\u001b[0m\u001b[0mset_label\u001b[0m\u001b[0;34m(\u001b[0m\u001b[0;34m'VC $(m^2/s)$'\u001b[0m\u001b[0;34m,\u001b[0m \u001b[0mrotation\u001b[0m\u001b[0;34m=\u001b[0m\u001b[0;36m270\u001b[0m\u001b[0;34m)\u001b[0m\u001b[0;34m\u001b[0m\u001b[0m\n\u001b[0;32m---> 25\u001b[0;31m         \u001b[0mcbar\u001b[0m\u001b[0;34m.\u001b[0m\u001b[0mset_label_coords\u001b[0m\u001b[0;34m(\u001b[0m\u001b[0;34m-\u001b[0m\u001b[0;36m0.05\u001b[0m\u001b[0;34m,\u001b[0m\u001b[0;36m0.5\u001b[0m\u001b[0;34m)\u001b[0m\u001b[0;34m\u001b[0m\u001b[0m\n\u001b[0m\u001b[1;32m     26\u001b[0m \u001b[0;34m\u001b[0m\u001b[0m\n\u001b[1;32m     27\u001b[0m         \u001b[0max\u001b[0m\u001b[0;34m.\u001b[0m\u001b[0mset_xlabel\u001b[0m\u001b[0;34m(\u001b[0m\u001b[0;34m'Longitud'\u001b[0m\u001b[0;34m,\u001b[0m \u001b[0mfontsize\u001b[0m\u001b[0;34m=\u001b[0m\u001b[0;36m13\u001b[0m\u001b[0;34m)\u001b[0m\u001b[0;34m\u001b[0m\u001b[0m\n",
      "\u001b[0;31mAttributeError\u001b[0m: 'Colorbar' object has no attribute 'set_label_coords'"
     ]
    }
   ],
   "source": [
    "i = 121\n",
    "for d in range(12, 13):\n",
    "    for h in range(0,24):\n",
    "        fig = plt.figure(figsize=(7,6))\n",
    "        ax = fig.add_subplot(111)\n",
    "        ax.set_xlim(xlong[50:75,0].min(), xlong[50:75,0].max())\n",
    "        ax.set_ylim(xlat[0,15:50].min(), xlat[0,15:50].max())\n",
    "        #plt.rcParams.update({'font.size': 11})\n",
    "\n",
    "        im = ax.pcolormesh(xlong[50:75, 15:50], xlat[50:75, 15:50], vc_24[d, h,50:75, 15:50], norm= colors.Normalize(vmin=1,vmax=13955))\n",
    "\n",
    "        for name in estados_names:\n",
    "            ax.plot(estados[name].lon, estados[name].lat, c='k', alpha = 0.5)\n",
    "\n",
    "        for name in delegaciones_names:\n",
    "            ax.plot(delegaciones[name].lon, delegaciones[name].lat, c='k', alpha = 0.5)\n",
    "\n",
    "        ax.scatter(xlong[cca_ix[0],cca_ix[1]], xlat[cca_ix[0],cca_ix[1]], c = 'r')\n",
    "        ax.scatter(xlong[ped_ix[0],ped_ix[1]], xlat[ped_ix[0],ped_ix[1]], c = 'cyan')\n",
    "    \n",
    "        fig.subplots_adjust(right=0.83)\n",
    "        cbar_ax = fig.add_axes([0.85, 0.13, 0.03, 0.76])\n",
    "        cbar = fig.colorbar(im, cax=cbar_ax)\n",
    "        cbar.set_label('VC $(m^2/s)$', rotation=270)\n",
    "        cbar.set_label_coords(-0.05,0.5)\n",
    "\n",
    "        ax.set_xlabel('Longitud', fontsize=13)\n",
    "        ax.set_ylabel('Latitud', fontsize=13)\n",
    "        ax.set_title(str(d+1) + ' junio ' +str(h)+':00', fontsize=13)\n",
    "        h = '%03d'%i\n",
    "        plt.savefig('/Users/claudiopierard/VC/animaciones/jun_7-13_2015/june'+h)\n",
    "        i += 1\n",
    "        plt.close(fig)"
   ]
  },
  {
   "cell_type": "markdown",
   "metadata": {},
   "source": [
    "# Marzo"
   ]
  },
  {
   "cell_type": "code",
   "execution_count": 48,
   "metadata": {},
   "outputs": [],
   "source": [
    "file = h5py.File('/Volumes/BUFFALO_SOLDIER/datos_VC/03/mar_24.h5', 'r')\n",
    "vc_24 = file.get('vc_24h')\n",
    "vc_24 = np.array(vc_24)"
   ]
  },
  {
   "cell_type": "code",
   "execution_count": 68,
   "metadata": {},
   "outputs": [],
   "source": [
    "i = 1\n",
    "for d in range(6, 14):\n",
    "    for h in range(0,24):\n",
    "        fig = plt.figure(figsize=(7,6))\n",
    "        ax = fig.add_subplot(111)\n",
    "        ax.set_xlim(xlong[50:75,0].min(), xlong[50:75,0].max())\n",
    "        ax.set_ylim(xlat[0,15:50].min(), xlat[0,15:50].max())\n",
    "        #plt.rcParams.update({'font.size': 11})\n",
    "\n",
    "        im = ax.pcolormesh(xlong[50:75, 15:50], xlat[50:75, 15:50], vc_24[d, h,50:75, 15:50], norm= colors.Normalize(vmin=1,vmax=28756))\n",
    "\n",
    "        for name in estados_names:\n",
    "            ax.plot(estados[name].lon, estados[name].lat, c='k', alpha = 0.5)\n",
    "\n",
    "        for name in delegaciones_names:\n",
    "            ax.plot(delegaciones[name].lon, delegaciones[name].lat, c='k', alpha = 0.5)\n",
    "\n",
    "        ax.scatter(xlong[cca_ix[0],cca_ix[1]], xlat[cca_ix[0],cca_ix[1]], c = 'r')\n",
    "        ax.scatter(xlong[ped_ix[0],ped_ix[1]], xlat[ped_ix[0],ped_ix[1]], c = 'cyan')\n",
    "    \n",
    "        fig.subplots_adjust(right=0.83)\n",
    "        cbar_ax = fig.add_axes([0.85, 0.13, 0.03, 0.76])\n",
    "        cbar = fig.colorbar(im, cax=cbar_ax)\n",
    "        #cbar.set_label('VC $(m^2/s)$', rotation=270)\n",
    "\n",
    "        ax.set_xlabel('Longitud', fontsize=13)\n",
    "        ax.set_ylabel('Latitud', fontsize=13)\n",
    "        ax.set_title(str(d) + ' marzo ' +str(h)+':00', fontsize=13)\n",
    "        h = '%03d'%i\n",
    "        plt.savefig('/Users/claudiopierard/VC/animaciones/mar_6-12_2015/mar'+h)\n",
    "        i += 1\n",
    "        plt.close(fig)"
   ]
  },
  {
   "cell_type": "markdown",
   "metadata": {},
   "source": [
    "____________"
   ]
  },
  {
   "cell_type": "code",
   "execution_count": null,
   "metadata": {},
   "outputs": [],
   "source": [
    "kaka"
   ]
  },
  {
   "cell_type": "code",
   "execution_count": 21,
   "metadata": {},
   "outputs": [],
   "source": [
    "def animar(xm, ym, S, t):\n",
    "    fig, axis = plt.subplots(figsize=(7,6))\n",
    "    p = axis.pcolormesh(xm, ym, S[0,:,:], norm= colors.Normalize(vmin=0,vmax=S.max())) \n",
    "    axis.set_xlim(xlong[:,0].min(), xlong[:,0].max())\n",
    "    axis.set_ylim(xlat[0,:].min(), xlat[0,:].max())\n",
    "     \n",
    "    #cbar_ax = fig.add_axes([.91, 0.13, 0.03, 0.76])\n",
    "    cbar = fig.colorbar(p)\n",
    "\n",
    "    for name in estados_names:\n",
    "        axis.plot(estados[name].lon, estados[name].lat, c='black', alpha = 0.5)\n",
    "            \n",
    "    for name in delegaciones_names:\n",
    "        ax.plot(delegaciones[name].lon, delegaciones[name].lat, c='k', alpha = 0.5)\n",
    "            \n",
    "    tx = axis.set_title(str(t[0]))\n",
    "\n",
    "    def init():\n",
    "        print('update init')\n",
    "        p.set_array(np.ravel(S[0,:-1,:-1]))\n",
    "        for name in estados_names:\n",
    "            axis.plot(estados[name].lon, estados[name].lat, c='black', alpha = 0.5)\n",
    "            \n",
    "        for name in delegaciones_names:\n",
    "            ax.plot(delegaciones[name].lon, delegaciones[name].lat, c='k', alpha = 0.5)\n",
    "        tx.set_text('VC. Local hour ' + str(t[0]))\n",
    "        return p\n",
    "\n",
    "    def update(frame):\n",
    "        #vmin = np.min(S[frame])\n",
    "        #vmax = np.max(S[frame])\n",
    "\n",
    "        time_str = str(t[frame])\n",
    "        p.set_array(np.ravel(S[frame, :-1, :-1]))\n",
    "        for name in estados_names:\n",
    "            axis.plot(estados[name].lon, estados[name].lat, c='black', alpha = 0.5)\n",
    "            \n",
    "        for name in delegaciones_names:\n",
    "            ax.plot(delegaciones[name].lon, delegaciones[name].lat, c='k', alpha = 0.5)\n",
    "        \n",
    "        #p.set_clim(vmin, vmax)\n",
    "        #plt.title(str(t[frame]))\n",
    "        axis.set_xlabel('Longitude', fontsize = 18)\n",
    "        axis.set_ylabel('Latitude', fontsize = 18)\n",
    "        #tx.set_text('t = ' + str(t[frame]))\n",
    "        tx.set_text('VC. Local hour ' + time_str )\n",
    "        #plt.title('Temperatura')\n",
    "\n",
    "        return p\n",
    "\n",
    "    anim = animation.FuncAnimation(fig, update, frames= [i for i in range(1,len(S))],  blit = False)\n",
    "    #plt.show()\n",
    "    return anim"
   ]
  },
  {
   "cell_type": "code",
   "execution_count": 22,
   "metadata": {},
   "outputs": [
    {
     "data": {
      "text/plain": [
       "(29, 24, 102, 128)"
      ]
     },
     "execution_count": 22,
     "metadata": {},
     "output_type": "execute_result"
    }
   ],
   "source": [
    "pblh_24.shape"
   ]
  },
  {
   "cell_type": "code",
   "execution_count": 31,
   "metadata": {},
   "outputs": [
    {
     "data": {
      "image/png": "[encoded data removed]",
      "text/plain": [
       "<matplotlib.figure.Figure at 0x11cbaca90>"
      ]
     },
     "metadata": {},
     "output_type": "display_data"
    }
   ],
   "source": [
    "anima_T = animar(xlong, xlat, vc_24[7,:,:,:], range(0,24))"
   ]
  },
  {
   "cell_type": "code",
   "execution_count": 32,
   "metadata": {},
   "outputs": [],
   "source": [
    "Writer = animation.writers['ffmpeg']\n",
    "writer = Writer(fps=5,  bitrate=1000)\n",
    "anima_T.save('vc_df.mp4',writer=writer)"
   ]
  },
  {
   "cell_type": "code",
   "execution_count": null,
   "metadata": {},
   "outputs": [],
   "source": []
  }
 ],
 "metadata": {
  "kernelspec": {
   "display_name": "Python 3",
   "language": "python",
   "name": "python3"
  },
  "language_info": {
   "codemirror_mode": {
    "name": "ipython",
    "version": 3
   },
   "file_extension": ".py",
   "mimetype": "text/x-python",
   "name": "python",
   "nbconvert_exporter": "python",
   "pygments_lexer": "ipython3",
   "version": "3.5.0"
  }
 },
 "nbformat": 4,
 "nbformat_minor": 2
}
